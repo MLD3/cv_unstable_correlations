{
 "cells": [
  {
   "cell_type": "code",
   "execution_count": 18,
   "id": "ac17b7a5-fef4-4281-abe5-a5c57c8d0993",
   "metadata": {},
   "outputs": [],
   "source": [
    "import numpy as np\n",
    "import matplotlib.pyplot as plt\n",
    "import joblib\n",
    "from sklearn.linear_model import LinearRegression as model\n",
    "from sklearn.metrics import mean_squared_error as loss\n",
    "import pandas as pd\n",
    "import seaborn as sns\n",
    "sns.set(font_scale=1.3)\n",
    "from scipy.stats import iqr\n",
    "\n",
    "\n",
    "def get_bootstrap(data1, data2, iterations=1000, sign_level=0.05):\n",
    "    mean_diff = np.median(data1) - np.median(data2)\n",
    "    boot_data = []\n",
    "    print(data1, data2)\n",
    "    # Bootstrap sampling\n",
    "    for i in range(iterations):\n",
    "        curr_idxs1 = np.random.choice(len(data1), len(data1))\n",
    "        curr_idxs2 = np.random.choice(len(data2), len(data2))\n",
    "        boot_data.append(np.median(data1[curr_idxs1]) - np.median(data2[curr_idxs2]))\n",
    "    \n",
    "    boot_data = np.array(boot_data) - mean_diff\n",
    "    # Calculate p-values\n",
    "    p_value = sum(np.abs(boot_data) >= np.abs(mean_diff)) / len(boot_data)\n",
    "    # print(mean_diff, boot_data)\n",
    "    print(p_value)\n",
    "    print(p_value > sign_level)\n",
    "\n",
    "# import matplotlib.pylab as pylab"
   ]
  },
  {
   "cell_type": "code",
   "execution_count": 24,
   "id": "577c868e-7b10-443d-8aa8-70c0cf3a1a86",
   "metadata": {},
   "outputs": [
    {
     "data": {
      "text/html": [
       "<div>\n",
       "<style scoped>\n",
       "    .dataframe tbody tr th:only-of-type {\n",
       "        vertical-align: middle;\n",
       "    }\n",
       "\n",
       "    .dataframe tbody tr th {\n",
       "        vertical-align: top;\n",
       "    }\n",
       "\n",
       "    .dataframe thead th {\n",
       "        text-align: right;\n",
       "    }\n",
       "</style>\n",
       "<table border=\"1\" class=\"dataframe\">\n",
       "  <thead>\n",
       "    <tr style=\"text-align: right;\">\n",
       "      <th></th>\n",
       "      <th>A</th>\n",
       "      <th>V</th>\n",
       "      <th>$\\frac{a}{b}$</th>\n",
       "      <th>$$\\frac{(A^2b^2 - a^2)(K-1)^2}{b^2(2K-1)}$$</th>\n",
       "      <th>A &lt; a/b</th>\n",
       "      <th>V &lt; V_cond</th>\n",
       "      <th>Learned - Real a</th>\n",
       "      <th>Learned - Real Ab</th>\n",
       "      <th>Method</th>\n",
       "      <th>Stable - Unstable Output</th>\n",
       "      <th>Stable Output</th>\n",
       "      <th>Unstable Output</th>\n",
       "      <th>Resulting Model MSE</th>\n",
       "      <th>% Select Stable Model</th>\n",
       "    </tr>\n",
       "  </thead>\n",
       "  <tbody>\n",
       "    <tr>\n",
       "      <th>0</th>\n",
       "      <td>0.109414</td>\n",
       "      <td>0.095771</td>\n",
       "      <td>0.042454</td>\n",
       "      <td>0.038284</td>\n",
       "      <td>False</td>\n",
       "      <td>False</td>\n",
       "      <td>0.001379</td>\n",
       "      <td>0.749666</td>\n",
       "      <td>Random\\nCross\\nValidation</td>\n",
       "      <td>-0.097523</td>\n",
       "      <td>1.412185e-01</td>\n",
       "      <td>0.238742</td>\n",
       "      <td>0.000002</td>\n",
       "      <td>True</td>\n",
       "    </tr>\n",
       "    <tr>\n",
       "      <th>1</th>\n",
       "      <td>0.109414</td>\n",
       "      <td>0.095771</td>\n",
       "      <td>0.042454</td>\n",
       "      <td>0.038284</td>\n",
       "      <td>False</td>\n",
       "      <td>False</td>\n",
       "      <td>0.001379</td>\n",
       "      <td>0.749666</td>\n",
       "      <td>Block\\nCross\\nValidation</td>\n",
       "      <td>-0.129848</td>\n",
       "      <td>1.412183e-01</td>\n",
       "      <td>0.271067</td>\n",
       "      <td>0.000002</td>\n",
       "      <td>True</td>\n",
       "    </tr>\n",
       "    <tr>\n",
       "      <th>2</th>\n",
       "      <td>0.109414</td>\n",
       "      <td>0.095771</td>\n",
       "      <td>0.042454</td>\n",
       "      <td>0.038284</td>\n",
       "      <td>False</td>\n",
       "      <td>False</td>\n",
       "      <td>0.001379</td>\n",
       "      <td>0.749666</td>\n",
       "      <td>Proposed\\nApproach</td>\n",
       "      <td>-0.032325</td>\n",
       "      <td>-1.902888e-07</td>\n",
       "      <td>0.032325</td>\n",
       "      <td>0.000002</td>\n",
       "      <td>True</td>\n",
       "    </tr>\n",
       "    <tr>\n",
       "      <th>3</th>\n",
       "      <td>0.206420</td>\n",
       "      <td>0.149291</td>\n",
       "      <td>0.036791</td>\n",
       "      <td>0.155316</td>\n",
       "      <td>False</td>\n",
       "      <td>True</td>\n",
       "      <td>-0.005410</td>\n",
       "      <td>1.010865</td>\n",
       "      <td>Random\\nCross\\nValidation</td>\n",
       "      <td>0.315020</td>\n",
       "      <td>1.946899e+00</td>\n",
       "      <td>1.631879</td>\n",
       "      <td>0.489532</td>\n",
       "      <td>False</td>\n",
       "    </tr>\n",
       "    <tr>\n",
       "      <th>4</th>\n",
       "      <td>0.206420</td>\n",
       "      <td>0.149291</td>\n",
       "      <td>0.036791</td>\n",
       "      <td>0.155316</td>\n",
       "      <td>False</td>\n",
       "      <td>True</td>\n",
       "      <td>-0.005410</td>\n",
       "      <td>1.010865</td>\n",
       "      <td>Block\\nCross\\nValidation</td>\n",
       "      <td>-0.060660</td>\n",
       "      <td>1.946968e+00</td>\n",
       "      <td>2.007628</td>\n",
       "      <td>0.000029</td>\n",
       "      <td>True</td>\n",
       "    </tr>\n",
       "  </tbody>\n",
       "</table>\n",
       "</div>"
      ],
      "text/plain": [
       "          A         V  $\\frac{a}{b}$  \\\n",
       "0  0.109414  0.095771       0.042454   \n",
       "1  0.109414  0.095771       0.042454   \n",
       "2  0.109414  0.095771       0.042454   \n",
       "3  0.206420  0.149291       0.036791   \n",
       "4  0.206420  0.149291       0.036791   \n",
       "\n",
       "   $$\\frac{(A^2b^2 - a^2)(K-1)^2}{b^2(2K-1)}$$  A < a/b  V < V_cond  \\\n",
       "0                                     0.038284    False       False   \n",
       "1                                     0.038284    False       False   \n",
       "2                                     0.038284    False       False   \n",
       "3                                     0.155316    False        True   \n",
       "4                                     0.155316    False        True   \n",
       "\n",
       "   Learned - Real a  Learned - Real Ab                     Method  \\\n",
       "0          0.001379           0.749666  Random\\nCross\\nValidation   \n",
       "1          0.001379           0.749666   Block\\nCross\\nValidation   \n",
       "2          0.001379           0.749666         Proposed\\nApproach   \n",
       "3         -0.005410           1.010865  Random\\nCross\\nValidation   \n",
       "4         -0.005410           1.010865   Block\\nCross\\nValidation   \n",
       "\n",
       "   Stable - Unstable Output  Stable Output  Unstable Output  \\\n",
       "0                 -0.097523   1.412185e-01         0.238742   \n",
       "1                 -0.129848   1.412183e-01         0.271067   \n",
       "2                 -0.032325  -1.902888e-07         0.032325   \n",
       "3                  0.315020   1.946899e+00         1.631879   \n",
       "4                 -0.060660   1.946968e+00         2.007628   \n",
       "\n",
       "   Resulting Model MSE  % Select Stable Model  \n",
       "0             0.000002                   True  \n",
       "1             0.000002                   True  \n",
       "2             0.000002                   True  \n",
       "3             0.489532                  False  \n",
       "4             0.000029                   True  "
      ]
     },
     "execution_count": 24,
     "metadata": {},
     "output_type": "execute_result"
    }
   ],
   "source": [
    "dict_ = np.load('dict_actualab.npy',allow_pickle='TRUE').item()\n",
    "df = pd.DataFrame(dict_)\n",
    "df.head()"
   ]
  },
  {
   "cell_type": "code",
   "execution_count": 25,
   "id": "5e22fff0-5600-4bb1-81a2-c7c4b67192a4",
   "metadata": {},
   "outputs": [
    {
     "data": {
      "text/plain": [
       "40000.0"
      ]
     },
     "execution_count": 25,
     "metadata": {},
     "output_type": "execute_result"
    }
   ],
   "source": [
    "len(dict_['A'])/3"
   ]
  },
  {
   "cell_type": "code",
   "execution_count": 26,
   "id": "4b87956c-750a-4bed-bd26-27894cee528a",
   "metadata": {},
   "outputs": [],
   "source": [
    "df['A > a/b'] = df['A'] > df['$\\\\frac{a}{b}$']"
   ]
  },
  {
   "cell_type": "code",
   "execution_count": 27,
   "id": "503a43ab-13e5-42db-a3a0-bfbb8d57d486",
   "metadata": {},
   "outputs": [],
   "source": [
    "df['V > V_cond'] = df['V'] > df['$$\\\\frac{(A^2b^2 - a^2)(K-1)^2}{b^2(2K-1)}$$']"
   ]
  },
  {
   "cell_type": "code",
   "execution_count": 28,
   "id": "c75e2935-4000-429c-b356-1eb315484278",
   "metadata": {},
   "outputs": [
    {
     "name": "stdout",
     "output_type": "stream",
     "text": [
      "0.000000, 50\\% PI: [0.000000, 0.000300]\n",
      "(3.185400, 50\\% PI: [0.000000, 32.745500])\n",
      "(2.343000, 50\\% PI: [0.000000, 32.189300])\n"
     ]
    }
   ],
   "source": [
    "import math\n",
    "df_curr = df[(df['A > a/b']) & (df['V < V_cond'])]\n",
    "rand_spec = df_curr[df_curr['Method'] == 'Random\\nCross\\nValidation']['Resulting Model MSE'].quantile([0.25, 0.5,0.75]).round(4)\n",
    "block_spec = df_curr[df_curr['Method'] == 'Block\\nCross\\nValidation']['Resulting Model MSE'].quantile([0.25, 0.5,0.75]).round(4)\n",
    "prop_spec = df_curr[df_curr['Method'] == 'Proposed\\nApproach']['Resulting Model MSE'].quantile([0.25, 0.5,0.75]).round(4)\n",
    "\n",
    "\n",
    "text1 = '%0.6f, 50\\%% PI: [%0.6f, %0.6f]\\n'%(prop_spec[0.5], prop_spec[0.25], prop_spec[0.75])\n",
    "text1 += '(%0.6f, 50\\%% PI: [%0.6f, %0.6f])\\n'%(rand_spec[0.5], rand_spec[0.25], rand_spec[0.75])\n",
    "text1 += '(%0.6f, 50\\%% PI: [%0.6f, %0.6f])'%(block_spec[0.5], block_spec[0.25], block_spec[0.75])\n",
    "print(text1)"
   ]
  },
  {
   "cell_type": "code",
   "execution_count": 29,
   "id": "62dc4a86-6f11-4908-82f5-62da7223135e",
   "metadata": {},
   "outputs": [
    {
     "name": "stdout",
     "output_type": "stream",
     "text": [
      "[2.88435290e-05 4.53655838e-05 2.96541443e-05 ... 1.17168464e-05\n",
      " 1.01650469e-05 1.87657493e-05] [4.89532015e-01 3.06270370e-01 2.24231204e-01 ... 1.17168464e-05\n",
      " 1.01650469e-05 1.87657493e-05]\n",
      "0.0\n",
      "False\n",
      "[2.88435290e-05 4.53655838e-05 2.96541443e-05 ... 1.17168464e-05\n",
      " 1.01650469e-05 1.87657493e-05] [2.88435290e-05 3.06270370e-01 2.24231204e-01 ... 1.17168464e-05\n",
      " 1.01650469e-05 1.87657493e-05]\n",
      "0.0\n",
      "False\n"
     ]
    }
   ],
   "source": [
    "get_bootstrap(df_curr[df_curr['Method'] == 'Proposed\\nApproach']['Resulting Model MSE'].to_numpy(), df_curr[df_curr['Method'] == 'Random\\nCross\\nValidation']['Resulting Model MSE'].to_numpy())\n",
    "get_bootstrap(df_curr[df_curr['Method'] == 'Proposed\\nApproach']['Resulting Model MSE'].to_numpy(), df_curr[df_curr['Method'] == 'Block\\nCross\\nValidation']['Resulting Model MSE'].to_numpy())"
   ]
  },
  {
   "cell_type": "code",
   "execution_count": 30,
   "id": "382a1a9a-81b9-45cb-be71-351e586cb0a2",
   "metadata": {},
   "outputs": [
    {
     "name": "stdout",
     "output_type": "stream",
     "text": [
      "0.000100, 50\\% PI: [0.000000, 0.000800]\n",
      "(0.000100, 50\\% PI: [0.000000, 0.001000])\n",
      "(0.000100, 50\\% PI: [0.000000, 0.000800])\n"
     ]
    }
   ],
   "source": [
    "import math\n",
    "df_curr = df[(df['A < a/b']) | (df['V > V_cond'])]\n",
    "rand_spec = df_curr[df_curr['Method'] == 'Random\\nCross\\nValidation']['Resulting Model MSE'].quantile([0.25, 0.5,0.75]).round(4)\n",
    "block_spec = df_curr[df_curr['Method'] == 'Block\\nCross\\nValidation']['Resulting Model MSE'].quantile([0.25, 0.5,0.75]).round(4)\n",
    "prop_spec = df_curr[df_curr['Method'] == 'Proposed\\nApproach']['Resulting Model MSE'].quantile([0.25, 0.5,0.75]).round(4)\n",
    "\n",
    "\n",
    "text1 = '%0.6f, 50\\%% PI: [%0.6f, %0.6f]\\n'%(prop_spec[0.5], prop_spec[0.25], prop_spec[0.75])\n",
    "text1 += '(%0.6f, 50\\%% PI: [%0.6f, %0.6f])\\n'%(rand_spec[0.5], rand_spec[0.25], rand_spec[0.75])\n",
    "text1 += '(%0.6f, 50\\%% PI: [%0.6f, %0.6f])'%(block_spec[0.5], block_spec[0.25], block_spec[0.75])\n",
    "print(text1)"
   ]
  },
  {
   "cell_type": "code",
   "execution_count": 31,
   "id": "fe470dfa-c155-46c3-97bd-9c4e48ed8c5d",
   "metadata": {},
   "outputs": [
    {
     "name": "stdout",
     "output_type": "stream",
     "text": [
      "[1.92699995e-06 3.75787387e-09 1.27640562e-05 ... 7.45940842e-04\n",
      " 1.32694701e-04 4.42013450e-07] [1.92699995e-06 3.75787387e-09 1.27640562e-05 ... 7.45940842e-04\n",
      " 1.32694701e-04 4.42013450e-07]\n",
      "0.009\n",
      "False\n",
      "[1.92699995e-06 3.75787387e-09 1.27640562e-05 ... 7.45940842e-04\n",
      " 1.32694701e-04 4.42013450e-07] [1.92699995e-06 3.75787387e-09 1.27640562e-05 ... 7.45940842e-04\n",
      " 1.32694701e-04 4.42013450e-07]\n",
      "0.662\n",
      "True\n"
     ]
    }
   ],
   "source": [
    "get_bootstrap(df_curr[df_curr['Method'] == 'Proposed\\nApproach']['Resulting Model MSE'].to_numpy(), df_curr[df_curr['Method'] == 'Random\\nCross\\nValidation']['Resulting Model MSE'].to_numpy())\n",
    "get_bootstrap(df_curr[df_curr['Method'] == 'Proposed\\nApproach']['Resulting Model MSE'].to_numpy(), df_curr[df_curr['Method'] == 'Block\\nCross\\nValidation']['Resulting Model MSE'].to_numpy())"
   ]
  },
  {
   "cell_type": "code",
   "execution_count": null,
   "id": "1b5fa435-6d3a-4e13-9544-4f761b5102b7",
   "metadata": {},
   "outputs": [],
   "source": []
  }
 ],
 "metadata": {
  "kernelspec": {
   "display_name": "Python 3 (ipykernel)",
   "language": "python",
   "name": "python3"
  },
  "language_info": {
   "codemirror_mode": {
    "name": "ipython",
    "version": 3
   },
   "file_extension": ".py",
   "mimetype": "text/x-python",
   "name": "python",
   "nbconvert_exporter": "python",
   "pygments_lexer": "ipython3",
   "version": "3.10.12"
  }
 },
 "nbformat": 4,
 "nbformat_minor": 5
}
